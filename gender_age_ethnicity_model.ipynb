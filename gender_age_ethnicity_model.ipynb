{
 "cells": [
  {
   "cell_type": "code",
   "execution_count": 1,
   "id": "202bed31",
   "metadata": {},
   "outputs": [],
   "source": [
    "import pandas as pd\n",
    "import numpy as np\n",
    "import matplotlib.pyplot as plt\n",
    "import tensorflow as tf\n",
    "\n",
    "from sklearn.model_selection import train_test_split\n",
    "from sklearn.metrics import accuracy_score"
   ]
  },
  {
   "cell_type": "code",
   "execution_count": 2,
   "id": "ed061b9f",
   "metadata": {},
   "outputs": [],
   "source": [
    "data = pd.read_csv(\"data/age_gender.csv\")"
   ]
  },
  {
   "cell_type": "code",
   "execution_count": 3,
   "id": "32bbe57e",
   "metadata": {
    "scrolled": true
   },
   "outputs": [
    {
     "data": {
      "text/html": [
       "<div>\n",
       "<style scoped>\n",
       "    .dataframe tbody tr th:only-of-type {\n",
       "        vertical-align: middle;\n",
       "    }\n",
       "\n",
       "    .dataframe tbody tr th {\n",
       "        vertical-align: top;\n",
       "    }\n",
       "\n",
       "    .dataframe thead th {\n",
       "        text-align: right;\n",
       "    }\n",
       "</style>\n",
       "<table border=\"1\" class=\"dataframe\">\n",
       "  <thead>\n",
       "    <tr style=\"text-align: right;\">\n",
       "      <th></th>\n",
       "      <th>age</th>\n",
       "      <th>ethnicity</th>\n",
       "      <th>gender</th>\n",
       "      <th>img_name</th>\n",
       "      <th>pixels</th>\n",
       "    </tr>\n",
       "  </thead>\n",
       "  <tbody>\n",
       "    <tr>\n",
       "      <th>0</th>\n",
       "      <td>1</td>\n",
       "      <td>2</td>\n",
       "      <td>0</td>\n",
       "      <td>20161219203650636.jpg.chip.jpg</td>\n",
       "      <td>129 128 128 126 127 130 133 135 139 142 145 14...</td>\n",
       "    </tr>\n",
       "    <tr>\n",
       "      <th>1</th>\n",
       "      <td>1</td>\n",
       "      <td>2</td>\n",
       "      <td>0</td>\n",
       "      <td>20161219222752047.jpg.chip.jpg</td>\n",
       "      <td>164 74 111 168 169 171 175 182 184 188 193 199...</td>\n",
       "    </tr>\n",
       "    <tr>\n",
       "      <th>2</th>\n",
       "      <td>1</td>\n",
       "      <td>2</td>\n",
       "      <td>0</td>\n",
       "      <td>20161219222832191.jpg.chip.jpg</td>\n",
       "      <td>67 70 71 70 69 67 70 79 90 103 116 132 145 155...</td>\n",
       "    </tr>\n",
       "    <tr>\n",
       "      <th>3</th>\n",
       "      <td>1</td>\n",
       "      <td>2</td>\n",
       "      <td>0</td>\n",
       "      <td>20161220144911423.jpg.chip.jpg</td>\n",
       "      <td>193 197 198 200 199 200 202 203 204 205 208 21...</td>\n",
       "    </tr>\n",
       "    <tr>\n",
       "      <th>4</th>\n",
       "      <td>1</td>\n",
       "      <td>2</td>\n",
       "      <td>0</td>\n",
       "      <td>20161220144914327.jpg.chip.jpg</td>\n",
       "      <td>202 205 209 210 209 209 210 211 212 214 218 21...</td>\n",
       "    </tr>\n",
       "    <tr>\n",
       "      <th>...</th>\n",
       "      <td>...</td>\n",
       "      <td>...</td>\n",
       "      <td>...</td>\n",
       "      <td>...</td>\n",
       "      <td>...</td>\n",
       "    </tr>\n",
       "    <tr>\n",
       "      <th>23700</th>\n",
       "      <td>99</td>\n",
       "      <td>0</td>\n",
       "      <td>1</td>\n",
       "      <td>20170120221920654.jpg.chip.jpg</td>\n",
       "      <td>127 100 94 81 77 77 74 99 102 98 128 145 160 1...</td>\n",
       "    </tr>\n",
       "    <tr>\n",
       "      <th>23701</th>\n",
       "      <td>99</td>\n",
       "      <td>1</td>\n",
       "      <td>1</td>\n",
       "      <td>20170120134639935.jpg.chip.jpg</td>\n",
       "      <td>23 28 32 35 42 47 68 85 98 103 113 117 130 129...</td>\n",
       "    </tr>\n",
       "    <tr>\n",
       "      <th>23702</th>\n",
       "      <td>99</td>\n",
       "      <td>2</td>\n",
       "      <td>1</td>\n",
       "      <td>20170110182418864.jpg.chip.jpg</td>\n",
       "      <td>59 50 37 40 34 19 30 101 156 170 177 184 187 1...</td>\n",
       "    </tr>\n",
       "    <tr>\n",
       "      <th>23703</th>\n",
       "      <td>99</td>\n",
       "      <td>2</td>\n",
       "      <td>1</td>\n",
       "      <td>20170117195405372.jpg.chip.jpg</td>\n",
       "      <td>45 108 120 156 206 197 140 180 191 199 204 207...</td>\n",
       "    </tr>\n",
       "    <tr>\n",
       "      <th>23704</th>\n",
       "      <td>99</td>\n",
       "      <td>0</td>\n",
       "      <td>1</td>\n",
       "      <td>20170110182052119.jpg.chip.jpg</td>\n",
       "      <td>156 161 160 165 170 173 166 177 183 191 187 18...</td>\n",
       "    </tr>\n",
       "  </tbody>\n",
       "</table>\n",
       "<p>23705 rows × 5 columns</p>\n",
       "</div>"
      ],
      "text/plain": [
       "       age  ethnicity  gender                        img_name  \\\n",
       "0        1          2       0  20161219203650636.jpg.chip.jpg   \n",
       "1        1          2       0  20161219222752047.jpg.chip.jpg   \n",
       "2        1          2       0  20161219222832191.jpg.chip.jpg   \n",
       "3        1          2       0  20161220144911423.jpg.chip.jpg   \n",
       "4        1          2       0  20161220144914327.jpg.chip.jpg   \n",
       "...    ...        ...     ...                             ...   \n",
       "23700   99          0       1  20170120221920654.jpg.chip.jpg   \n",
       "23701   99          1       1  20170120134639935.jpg.chip.jpg   \n",
       "23702   99          2       1  20170110182418864.jpg.chip.jpg   \n",
       "23703   99          2       1  20170117195405372.jpg.chip.jpg   \n",
       "23704   99          0       1  20170110182052119.jpg.chip.jpg   \n",
       "\n",
       "                                                  pixels  \n",
       "0      129 128 128 126 127 130 133 135 139 142 145 14...  \n",
       "1      164 74 111 168 169 171 175 182 184 188 193 199...  \n",
       "2      67 70 71 70 69 67 70 79 90 103 116 132 145 155...  \n",
       "3      193 197 198 200 199 200 202 203 204 205 208 21...  \n",
       "4      202 205 209 210 209 209 210 211 212 214 218 21...  \n",
       "...                                                  ...  \n",
       "23700  127 100 94 81 77 77 74 99 102 98 128 145 160 1...  \n",
       "23701  23 28 32 35 42 47 68 85 98 103 113 117 130 129...  \n",
       "23702  59 50 37 40 34 19 30 101 156 170 177 184 187 1...  \n",
       "23703  45 108 120 156 206 197 140 180 191 199 204 207...  \n",
       "23704  156 161 160 165 170 173 166 177 183 191 187 18...  \n",
       "\n",
       "[23705 rows x 5 columns]"
      ]
     },
     "execution_count": 3,
     "metadata": {},
     "output_type": "execute_result"
    }
   ],
   "source": [
    "data"
   ]
  },
  {
   "cell_type": "code",
   "execution_count": 4,
   "id": "21418e67",
   "metadata": {},
   "outputs": [],
   "source": [
    "data = data.drop(\"img_name\", axis=1)"
   ]
  },
  {
   "cell_type": "code",
   "execution_count": 5,
   "id": "e3649a96",
   "metadata": {},
   "outputs": [],
   "source": [
    "data[\"age\"] = pd.qcut(data[\"age\"], q=8, labels=[0, 1, 2, 3, 4, 5, 6, 7])"
   ]
  },
  {
   "cell_type": "code",
   "execution_count": 6,
   "id": "cc371640",
   "metadata": {},
   "outputs": [
    {
     "name": "stdout",
     "output_type": "stream",
     "text": [
      "2304\n"
     ]
    }
   ],
   "source": [
    "#Getting lenght of each row pixels\n",
    "print(len(data[\"pixels\"][0].split(' ')))"
   ]
  },
  {
   "cell_type": "code",
   "execution_count": 7,
   "id": "087177d8",
   "metadata": {},
   "outputs": [
    {
     "name": "stdout",
     "output_type": "stream",
     "text": [
      "48.0\n"
     ]
    }
   ],
   "source": [
    "#Saying its a square we take root for size\n",
    "print(np.sqrt(2304))"
   ]
  },
  {
   "cell_type": "code",
   "execution_count": 8,
   "id": "4abc5416",
   "metadata": {},
   "outputs": [],
   "source": [
    "num_pixels = 2304\n",
    "img_size = 48"
   ]
  },
  {
   "cell_type": "code",
   "execution_count": 9,
   "id": "d1a0a960",
   "metadata": {},
   "outputs": [],
   "source": [
    "#Split into X and y\n",
    "target_columns = [\"age\", \"ethnicity\", \"gender\"]\n",
    "\n",
    "y = data[target_columns]\n",
    "X = data.drop(target_columns, axis=1)"
   ]
  },
  {
   "cell_type": "code",
   "execution_count": 10,
   "id": "d0b00716",
   "metadata": {},
   "outputs": [],
   "source": [
    "#Convert into pandas\n",
    "X = pd.Series(X[\"pixels\"])\n",
    "#Split string into each pixel\n",
    "X = X.apply(lambda x: x.split(' '))"
   ]
  },
  {
   "cell_type": "code",
   "execution_count": 11,
   "id": "193feda0",
   "metadata": {},
   "outputs": [],
   "source": [
    "#Converting back into int array numpy\n",
    "X = X.apply(lambda x: np.array(list(map(lambda z: np.int32(z), x))))"
   ]
  },
  {
   "cell_type": "code",
   "execution_count": 12,
   "id": "b48678d7",
   "metadata": {},
   "outputs": [],
   "source": [
    "X = np.array(X)"
   ]
  },
  {
   "cell_type": "code",
   "execution_count": 13,
   "id": "c2ff58b0",
   "metadata": {},
   "outputs": [],
   "source": [
    "X = np.stack(np.array(X), axis=0)"
   ]
  },
  {
   "cell_type": "code",
   "execution_count": 14,
   "id": "aa1fcaec",
   "metadata": {},
   "outputs": [],
   "source": [
    "#Make into image array\n",
    "X = np.reshape(X, (-1, 48, 48))"
   ]
  },
  {
   "cell_type": "code",
   "execution_count": 15,
   "id": "42a42f48",
   "metadata": {
    "scrolled": false
   },
   "outputs": [
    {
     "data": {
      "image/png": "[encoded data removed]",
      "text/plain": [
       "<Figure size 1000x1000 with 9 Axes>"
      ]
     },
     "metadata": {},
     "output_type": "display_data"
    }
   ],
   "source": [
    "plt.figure(figsize=(10, 10))\n",
    "\n",
    "for index, image in enumerate(np.random.randint(0, 23705, 9)):\n",
    "    plt.subplot(3, 3, index +1)\n",
    "    plt.imshow(X[image])\n",
    "    \n",
    "plt.show()"
   ]
  },
  {
   "cell_type": "code",
   "execution_count": 16,
   "id": "bbf2a209",
   "metadata": {},
   "outputs": [],
   "source": [
    "#Extract Each category\n",
    "y_gender = np.array(y[\"gender\"])\n",
    "y_ethnicity = np.array(y[\"ethnicity\"])\n",
    "y_age = np.array(y[\"age\"])"
   ]
  },
  {
   "cell_type": "code",
   "execution_count": 17,
   "id": "6cec9608",
   "metadata": {},
   "outputs": [],
   "source": [
    "def build_model(nr_of_classes, activation=\"softmax\", loss=\"sparse_categorical_crossentropy\"):\n",
    "    \n",
    "    model = tf.keras.Sequential()\n",
    "    model.add(tf.keras.Input(shape=(img_size, img_size, 1)))\n",
    "    model.add(tf.keras.layers.Rescaling(1./255))\n",
    "    model.add(tf.keras.layers.Conv2D(16, 3, padding=\"same\", activation=\"relu\"))\n",
    "    model.add(tf.keras.layers.MaxPooling2D())\n",
    "    model.add(tf.keras.layers.Conv2D(32, 3, padding=\"same\", activation=\"relu\"))\n",
    "    model.add(tf.keras.layers.MaxPooling2D())\n",
    "    model.add(tf.keras.layers.Conv2D(64, 3, padding=\"same\", activation=\"relu\"))\n",
    "    model.add(tf.keras.layers.MaxPooling2D())\n",
    "    \n",
    "    model.add(tf.keras.layers.Flatten())\n",
    "    \n",
    "    model.add(tf.keras.layers.Dense(128, activation=\"relu\"))\n",
    "    model.add(tf.keras.layers.Dropout(rate=0.5))\n",
    "    \n",
    "    model.add(tf.keras.layers.Dense(nr_of_classes, activation=activation))\n",
    "    \n",
    "    model.compile(\n",
    "        optimizer=\"adam\",\n",
    "        loss=loss,\n",
    "        metrics=[\"accuracy\"]\n",
    "    )\n",
    "    \n",
    "    return model"
   ]
  },
  {
   "cell_type": "code",
   "execution_count": 18,
   "id": "06b63089",
   "metadata": {},
   "outputs": [],
   "source": [
    "X_gender_train, X_gender_test, y_gender_train, y_gender_test = train_test_split(X, y_gender, train_size=0.7)"
   ]
  },
  {
   "cell_type": "code",
   "execution_count": 19,
   "id": "d0a329a6",
   "metadata": {},
   "outputs": [],
   "source": [
    "X_age_train, X_age_test, y_age_train, y_age_test = train_test_split(X, y_age, train_size=0.7)"
   ]
  },
  {
   "cell_type": "code",
   "execution_count": 20,
   "id": "8b942b89",
   "metadata": {},
   "outputs": [],
   "source": [
    "X_ethnicity_train, X_ethnicity_test, y_ethnicity_train, y_ethnicity_test = train_test_split(X, y_ethnicity, train_size=0.7)"
   ]
  },
  {
   "cell_type": "code",
   "execution_count": 21,
   "id": "54561b23",
   "metadata": {
    "scrolled": false
   },
   "outputs": [
    {
     "name": "stdout",
     "output_type": "stream",
     "text": [
      "Epoch 1/20\n",
      "208/208 [==============================] - 6s 8ms/step - loss: 0.5273 - accuracy: 0.7327 - val_loss: 0.4074 - val_accuracy: 0.8189\n",
      "Epoch 2/20\n",
      "208/208 [==============================] - 1s 6ms/step - loss: 0.3623 - accuracy: 0.8359 - val_loss: 0.3390 - val_accuracy: 0.8463\n",
      "Epoch 3/20\n",
      "208/208 [==============================] - 1s 7ms/step - loss: 0.3199 - accuracy: 0.8608 - val_loss: 0.3052 - val_accuracy: 0.8650\n",
      "Epoch 4/20\n",
      "208/208 [==============================] - 1s 7ms/step - loss: 0.2946 - accuracy: 0.8699 - val_loss: 0.3062 - val_accuracy: 0.8650\n",
      "Epoch 5/20\n",
      "208/208 [==============================] - 1s 7ms/step - loss: 0.2687 - accuracy: 0.8840 - val_loss: 0.2894 - val_accuracy: 0.8689\n",
      "Epoch 6/20\n",
      "208/208 [==============================] - 2s 7ms/step - loss: 0.2537 - accuracy: 0.8902 - val_loss: 0.2844 - val_accuracy: 0.8747\n",
      "Epoch 7/20\n",
      "208/208 [==============================] - 2s 8ms/step - loss: 0.2390 - accuracy: 0.8989 - val_loss: 0.2794 - val_accuracy: 0.8816\n",
      "Epoch 8/20\n",
      "208/208 [==============================] - 1s 7ms/step - loss: 0.2234 - accuracy: 0.9072 - val_loss: 0.2917 - val_accuracy: 0.8719\n",
      "Epoch 9/20\n",
      "208/208 [==============================] - 1s 7ms/step - loss: 0.2126 - accuracy: 0.9122 - val_loss: 0.3104 - val_accuracy: 0.8716\n",
      "Epoch 10/20\n",
      "206/208 [============================>.] - ETA: 0s - loss: 0.2001 - accuracy: 0.9172Restoring model weights from the end of the best epoch: 7.\n",
      "208/208 [==============================] - 2s 8ms/step - loss: 0.2005 - accuracy: 0.9171 - val_loss: 0.2834 - val_accuracy: 0.8792\n",
      "Epoch 10: early stopping\n"
     ]
    }
   ],
   "source": [
    "gender_model = build_model(1, activation=\"sigmoid\", loss=\"binary_crossentropy\")\n",
    "\n",
    "gender_status = gender_model.fit(\n",
    "    X_gender_train,\n",
    "    y_gender_train,\n",
    "    validation_split=0.2,\n",
    "    batch_size=64,\n",
    "    epochs=20,\n",
    "    callbacks=[tf.keras.callbacks.EarlyStopping(monitor=\"val_loss\",\n",
    "                          min_delta=0,\n",
    "                          patience=3,\n",
    "                          verbose=1,\n",
    "                          restore_best_weights=True\n",
    "                          )],\n",
    "    verbose=1\n",
    ")"
   ]
  },
  {
   "cell_type": "code",
   "execution_count": 24,
   "id": "80f8313d",
   "metadata": {},
   "outputs": [
    {
     "name": "stdout",
     "output_type": "stream",
     "text": [
      "Epoch 1/20\n",
      "208/208 [==============================] - 2s 8ms/step - loss: 1.9633 - accuracy: 0.2250 - val_loss: 1.6997 - val_accuracy: 0.3344\n",
      "Epoch 2/20\n",
      "208/208 [==============================] - 1s 7ms/step - loss: 1.6850 - accuracy: 0.3353 - val_loss: 1.5679 - val_accuracy: 0.3848\n",
      "Epoch 3/20\n",
      "208/208 [==============================] - 1s 7ms/step - loss: 1.5762 - accuracy: 0.3768 - val_loss: 1.5149 - val_accuracy: 0.4037\n",
      "Epoch 4/20\n",
      "208/208 [==============================] - 1s 6ms/step - loss: 1.5148 - accuracy: 0.4049 - val_loss: 1.4480 - val_accuracy: 0.4309\n",
      "Epoch 5/20\n",
      "208/208 [==============================] - 1s 6ms/step - loss: 1.4650 - accuracy: 0.4167 - val_loss: 1.4209 - val_accuracy: 0.4333\n",
      "Epoch 6/20\n",
      "208/208 [==============================] - 1s 6ms/step - loss: 1.4303 - accuracy: 0.4262 - val_loss: 1.4181 - val_accuracy: 0.4342\n",
      "Epoch 7/20\n",
      "208/208 [==============================] - 1s 7ms/step - loss: 1.4022 - accuracy: 0.4424 - val_loss: 1.3862 - val_accuracy: 0.4471\n",
      "Epoch 8/20\n",
      "208/208 [==============================] - 1s 7ms/step - loss: 1.3740 - accuracy: 0.4452 - val_loss: 1.3675 - val_accuracy: 0.4547\n",
      "Epoch 9/20\n",
      "208/208 [==============================] - 1s 7ms/step - loss: 1.3416 - accuracy: 0.4577 - val_loss: 1.3683 - val_accuracy: 0.4516\n",
      "Epoch 10/20\n",
      "208/208 [==============================] - 1s 6ms/step - loss: 1.3148 - accuracy: 0.4691 - val_loss: 1.3731 - val_accuracy: 0.4435\n",
      "Epoch 11/20\n",
      "208/208 [==============================] - 1s 7ms/step - loss: 1.2873 - accuracy: 0.4789 - val_loss: 1.3615 - val_accuracy: 0.4426\n",
      "Epoch 12/20\n",
      "208/208 [==============================] - 1s 6ms/step - loss: 1.2631 - accuracy: 0.4886 - val_loss: 1.3666 - val_accuracy: 0.4474\n",
      "Epoch 13/20\n",
      "208/208 [==============================] - 2s 7ms/step - loss: 1.2427 - accuracy: 0.5001 - val_loss: 1.3553 - val_accuracy: 0.4492\n",
      "Epoch 14/20\n",
      "208/208 [==============================] - 1s 6ms/step - loss: 1.2184 - accuracy: 0.5035 - val_loss: 1.3468 - val_accuracy: 0.4519\n",
      "Epoch 15/20\n",
      "208/208 [==============================] - 1s 6ms/step - loss: 1.1905 - accuracy: 0.5160 - val_loss: 1.3614 - val_accuracy: 0.4468\n",
      "Epoch 16/20\n",
      "208/208 [==============================] - 1s 6ms/step - loss: 1.1720 - accuracy: 0.5210 - val_loss: 1.3717 - val_accuracy: 0.4595\n",
      "Epoch 17/20\n",
      "204/208 [============================>.] - ETA: 0s - loss: 1.1477 - accuracy: 0.5274Restoring model weights from the end of the best epoch: 14.\n",
      "208/208 [==============================] - 1s 6ms/step - loss: 1.1470 - accuracy: 0.5283 - val_loss: 1.3924 - val_accuracy: 0.4501\n",
      "Epoch 17: early stopping\n"
     ]
    }
   ],
   "source": [
    "age_model = build_model(8)\n",
    "\n",
    "age_status = age_model.fit(\n",
    "    X_age_train,\n",
    "    y_age_train,\n",
    "    validation_split=0.2,\n",
    "    batch_size=64,\n",
    "    epochs=20,\n",
    "    callbacks=[tf.keras.callbacks.EarlyStopping(monitor=\"val_loss\",\n",
    "                          min_delta=0,\n",
    "                          patience=3,\n",
    "                          verbose=1,\n",
    "                          restore_best_weights=True\n",
    "                          )],\n",
    "    verbose=1\n",
    ")"
   ]
  },
  {
   "cell_type": "code",
   "execution_count": 25,
   "id": "b4108663",
   "metadata": {},
   "outputs": [
    {
     "data": {
      "text/plain": [
       "0"
      ]
     },
     "execution_count": 25,
     "metadata": {},
     "output_type": "execute_result"
    }
   ],
   "source": [
    "y_ethnicity.min()"
   ]
  },
  {
   "cell_type": "code",
   "execution_count": 26,
   "id": "8442df00",
   "metadata": {},
   "outputs": [
    {
     "data": {
      "text/plain": [
       "4"
      ]
     },
     "execution_count": 26,
     "metadata": {},
     "output_type": "execute_result"
    }
   ],
   "source": [
    "y_ethnicity.max()"
   ]
  },
  {
   "cell_type": "code",
   "execution_count": 27,
   "id": "4ca12bce",
   "metadata": {},
   "outputs": [
    {
     "name": "stdout",
     "output_type": "stream",
     "text": [
      "Epoch 1/20\n",
      "208/208 [==============================] - 2s 8ms/step - loss: 1.3331 - accuracy: 0.4803 - val_loss: 1.1330 - val_accuracy: 0.5538\n",
      "Epoch 2/20\n",
      "208/208 [==============================] - 1s 6ms/step - loss: 1.0336 - accuracy: 0.6206 - val_loss: 0.9399 - val_accuracy: 0.6565\n",
      "Epoch 3/20\n",
      "208/208 [==============================] - 1s 6ms/step - loss: 0.8960 - accuracy: 0.6868 - val_loss: 0.8296 - val_accuracy: 0.7089\n",
      "Epoch 4/20\n",
      "208/208 [==============================] - 1s 6ms/step - loss: 0.8228 - accuracy: 0.7130 - val_loss: 0.7971 - val_accuracy: 0.7180\n",
      "Epoch 5/20\n",
      "208/208 [==============================] - 1s 6ms/step - loss: 0.7779 - accuracy: 0.7299 - val_loss: 0.7513 - val_accuracy: 0.7373\n",
      "Epoch 6/20\n",
      "208/208 [==============================] - 1s 6ms/step - loss: 0.7303 - accuracy: 0.7491 - val_loss: 0.7457 - val_accuracy: 0.7397\n",
      "Epoch 7/20\n",
      "208/208 [==============================] - 1s 7ms/step - loss: 0.6912 - accuracy: 0.7637 - val_loss: 0.7336 - val_accuracy: 0.7454\n",
      "Epoch 8/20\n",
      "208/208 [==============================] - 1s 7ms/step - loss: 0.6644 - accuracy: 0.7737 - val_loss: 0.7580 - val_accuracy: 0.7379\n",
      "Epoch 9/20\n",
      "208/208 [==============================] - 1s 7ms/step - loss: 0.6358 - accuracy: 0.7799 - val_loss: 0.7056 - val_accuracy: 0.7572\n",
      "Epoch 10/20\n",
      "208/208 [==============================] - 1s 7ms/step - loss: 0.6086 - accuracy: 0.7912 - val_loss: 0.7002 - val_accuracy: 0.7596\n",
      "Epoch 11/20\n",
      "208/208 [==============================] - 1s 6ms/step - loss: 0.5810 - accuracy: 0.7952 - val_loss: 0.7073 - val_accuracy: 0.7644\n",
      "Epoch 12/20\n",
      "208/208 [==============================] - 1s 7ms/step - loss: 0.5732 - accuracy: 0.7992 - val_loss: 0.6999 - val_accuracy: 0.7662\n",
      "Epoch 13/20\n",
      "208/208 [==============================] - 1s 7ms/step - loss: 0.5294 - accuracy: 0.8141 - val_loss: 0.6934 - val_accuracy: 0.7656\n",
      "Epoch 14/20\n",
      "208/208 [==============================] - 1s 6ms/step - loss: 0.5162 - accuracy: 0.8183 - val_loss: 0.6861 - val_accuracy: 0.7737\n",
      "Epoch 15/20\n",
      "208/208 [==============================] - 1s 7ms/step - loss: 0.4883 - accuracy: 0.8282 - val_loss: 0.7098 - val_accuracy: 0.7749\n",
      "Epoch 16/20\n",
      "208/208 [==============================] - 1s 7ms/step - loss: 0.4683 - accuracy: 0.8308 - val_loss: 0.7514 - val_accuracy: 0.7764\n",
      "Epoch 17/20\n",
      "204/208 [============================>.] - ETA: 0s - loss: 0.4532 - accuracy: 0.8376Restoring model weights from the end of the best epoch: 14.\n",
      "208/208 [==============================] - 1s 6ms/step - loss: 0.4561 - accuracy: 0.8368 - val_loss: 0.7192 - val_accuracy: 0.7698\n",
      "Epoch 17: early stopping\n"
     ]
    }
   ],
   "source": [
    "ethnicity_model = build_model(5)\n",
    "\n",
    "ethnicity_status = ethnicity_model.fit(\n",
    "    X_ethnicity_train,\n",
    "    y_ethnicity_train,\n",
    "    validation_split=0.2,\n",
    "    batch_size=64,\n",
    "    epochs=20,\n",
    "    callbacks=[tf.keras.callbacks.EarlyStopping(monitor=\"val_loss\",\n",
    "                          min_delta=0,\n",
    "                          patience=3,\n",
    "                          verbose=1,\n",
    "                          restore_best_weights=True\n",
    "                          )],\n",
    "    verbose=1\n",
    ")"
   ]
  },
  {
   "cell_type": "code",
   "execution_count": 28,
   "id": "c3f32426",
   "metadata": {},
   "outputs": [],
   "source": [
    "gender_model.save(\"models/gender_model.h5\")"
   ]
  },
  {
   "cell_type": "code",
   "execution_count": 29,
   "id": "3f4ec420",
   "metadata": {},
   "outputs": [],
   "source": [
    "age_model.save(\"models/age_model.h5\")"
   ]
  },
  {
   "cell_type": "code",
   "execution_count": 30,
   "id": "c94cd93c",
   "metadata": {},
   "outputs": [],
   "source": [
    "ethnicity_model.save(\"models/ethnicity_model.h5\")"
   ]
  },
  {
   "cell_type": "code",
   "execution_count": 31,
   "id": "176a105e",
   "metadata": {
    "scrolled": true
   },
   "outputs": [
    {
     "name": "stdout",
     "output_type": "stream",
     "text": [
      "223/223 [==============================] - 1s 2ms/step\n"
     ]
    }
   ],
   "source": [
    "gender_test_prediction = gender_model.predict(X_gender_test)"
   ]
  },
  {
   "cell_type": "code",
   "execution_count": 32,
   "id": "e5e8722e",
   "metadata": {},
   "outputs": [],
   "source": [
    "for i in range(len(gender_test_prediction)):\n",
    "    if gender_test_prediction[i] < 0.5:\n",
    "        gender_test_prediction[i] = 0\n",
    "    else:\n",
    "        gender_test_prediction[i] = 1"
   ]
  },
  {
   "cell_type": "code",
   "execution_count": 33,
   "id": "8db1563c",
   "metadata": {},
   "outputs": [
    {
     "data": {
      "text/plain": [
       "array([[1.],\n",
       "       [0.],\n",
       "       [1.],\n",
       "       ...,\n",
       "       [0.],\n",
       "       [1.],\n",
       "       [0.]], dtype=float32)"
      ]
     },
     "execution_count": 33,
     "metadata": {},
     "output_type": "execute_result"
    }
   ],
   "source": [
    "gender_test_prediction"
   ]
  },
  {
   "cell_type": "code",
   "execution_count": 34,
   "id": "6044c5dd",
   "metadata": {},
   "outputs": [
    {
     "name": "stdout",
     "output_type": "stream",
     "text": [
      "[1 0 1 ... 0 1 0]\n"
     ]
    }
   ],
   "source": [
    "print(y_gender_test)"
   ]
  },
  {
   "cell_type": "code",
   "execution_count": 35,
   "id": "15d3a33d",
   "metadata": {},
   "outputs": [
    {
     "name": "stdout",
     "output_type": "stream",
     "text": [
      "0.8934195725534309\n"
     ]
    }
   ],
   "source": [
    "print(accuracy_score(y_gender_test,gender_test_prediction))"
   ]
  },
  {
   "cell_type": "code",
   "execution_count": 36,
   "id": "2b63f5e3",
   "metadata": {},
   "outputs": [],
   "source": [
    "for i in range(len(gender_test_prediction)):\n",
    "    if gender_test_prediction[i] < 0.5:\n",
    "        gender_test_prediction[i] = 0\n",
    "    else:\n",
    "        gender_test_prediction[i] = 1"
   ]
  },
  {
   "cell_type": "code",
   "execution_count": 37,
   "id": "4c1e2bee",
   "metadata": {},
   "outputs": [
    {
     "data": {
      "text/plain": [
       "array([[1.],\n",
       "       [0.],\n",
       "       [1.],\n",
       "       ...,\n",
       "       [0.],\n",
       "       [1.],\n",
       "       [0.]], dtype=float32)"
      ]
     },
     "execution_count": 37,
     "metadata": {},
     "output_type": "execute_result"
    }
   ],
   "source": [
    "gender_test_prediction"
   ]
  },
  {
   "cell_type": "code",
   "execution_count": 38,
   "id": "b71fb0d4",
   "metadata": {},
   "outputs": [
    {
     "name": "stdout",
     "output_type": "stream",
     "text": [
      "[1 0 1 ... 0 1 0]\n"
     ]
    }
   ],
   "source": [
    "print(y_gender_test)"
   ]
  },
  {
   "cell_type": "code",
   "execution_count": 39,
   "id": "8f0eac3b",
   "metadata": {
    "scrolled": true
   },
   "outputs": [
    {
     "name": "stdout",
     "output_type": "stream",
     "text": [
      "0.8934195725534309\n"
     ]
    }
   ],
   "source": [
    "print(accuracy_score(y_gender_test,gender_test_prediction))"
   ]
  }
 ],
 "metadata": {
  "kernelspec": {
   "display_name": "Python 3 (ipykernel)",
   "language": "python",
   "name": "python3"
  },
  "language_info": {
   "codemirror_mode": {
    "name": "ipython",
    "version": 3
   },
   "file_extension": ".py",
   "mimetype": "text/x-python",
   "name": "python",
   "nbconvert_exporter": "python",
   "pygments_lexer": "ipython3",
   "version": "3.10.14"
  },
  "varInspector": {
   "cols": {
    "lenName": 16,
    "lenType": 16,
    "lenVar": 40
   },
   "kernels_config": {
    "python": {
     "delete_cmd_postfix": "",
     "delete_cmd_prefix": "del ",
     "library": "var_list.py",
     "varRefreshCmd": "print(var_dic_list())"
    },
    "r": {
     "delete_cmd_postfix": ") ",
     "delete_cmd_prefix": "rm(",
     "library": "var_list.r",
     "varRefreshCmd": "cat(var_dic_list()) "
    }
   },
   "types_to_exclude": [
    "module",
    "function",
    "builtin_function_or_method",
    "instance",
    "_Feature"
   ],
   "window_display": false
  }
 },
 "nbformat": 4,
 "nbformat_minor": 5
}
